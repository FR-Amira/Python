{
 "cells": [
  {
   "cell_type": "code",
   "execution_count": 4,
   "metadata": {},
   "outputs": [
    {
     "name": "stdout",
     "output_type": "stream",
     "text": [
      "6\n",
      "10\n",
      "16\n",
      "4.0\n",
      "0\n",
      "64\n",
      "4.0\n",
      "4\n"
     ]
    }
   ],
   "source": [
    "x=8\n",
    "y=2\n",
    "print(x-y)\n",
    "print(x+y)\n",
    "print(x*y)\n",
    "print(x/y)\n",
    "print(x%y) #MODEL(ba9i)\n",
    "print(x**y) # x 9ewet y\n",
    "\n",
    "print(x/y)\n",
    "print(x//y) # Arondi (nahi nasel)"
   ]
  },
  {
   "cell_type": "code",
   "execution_count": 29,
   "metadata": {},
   "outputs": [
    {
     "name": "stdout",
     "output_type": "stream",
     "text": [
      "70\n",
      "22\n"
     ]
    }
   ],
   "source": [
    "X=20\n",
    "Y=X+50\n",
    "print(Y)\n",
    "\n",
    "K=2\n",
    "\n",
    "K+=20\n",
    "print(K)\n"
   ]
  }
 ],
 "metadata": {
  "kernelspec": {
   "display_name": "Python 3",
   "language": "python",
   "name": "python3"
  },
  "language_info": {
   "codemirror_mode": {
    "name": "ipython",
    "version": 3
   },
   "file_extension": ".py",
   "mimetype": "text/x-python",
   "name": "python",
   "nbconvert_exporter": "python",
   "pygments_lexer": "ipython3",
   "version": "3.12.5"
  }
 },
 "nbformat": 4,
 "nbformat_minor": 2
}
