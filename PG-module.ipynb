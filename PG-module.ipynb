{
 "cells": [
  {
   "cell_type": "code",
   "execution_count": 3,
   "metadata": {},
   "outputs": [
    {
     "name": "stdout",
     "output_type": "stream",
     "text": [
      "l fonction de module\n",
      "{'name': 'Amira', 'Age': 28, 'country': 'Monastir'}\n",
      "10\n"
     ]
    }
   ],
   "source": [
    "import module \n",
    "\n",
    "module.affiche()\n",
    "\n",
    "print(module.person1)\n",
    "\n",
    "print(module.x)"
   ]
  },
  {
   "cell_type": "code",
   "execution_count": 4,
   "metadata": {},
   "outputs": [
    {
     "name": "stdout",
     "output_type": "stream",
     "text": [
      "l fonction de module\n",
      "{'name': 'Amira', 'Age': 28, 'country': 'Monastir'}\n",
      "10\n"
     ]
    }
   ],
   "source": [
    "import module as M\n",
    "\n",
    "M.affiche()\n",
    "\n",
    "print(M.person1)\n",
    "\n",
    "print(M.x)"
   ]
  }
 ],
 "metadata": {
  "kernelspec": {
   "display_name": "Python 3",
   "language": "python",
   "name": "python3"
  },
  "language_info": {
   "codemirror_mode": {
    "name": "ipython",
    "version": 3
   },
   "file_extension": ".py",
   "mimetype": "text/x-python",
   "name": "python",
   "nbconvert_exporter": "python",
   "pygments_lexer": "ipython3",
   "version": "3.12.5"
  }
 },
 "nbformat": 4,
 "nbformat_minor": 2
}
