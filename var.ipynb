{
 "cells": [
  {
   "cell_type": "code",
   "execution_count": 6,
   "metadata": {},
   "outputs": [
    {
     "name": "stdout",
     "output_type": "stream",
     "text": [
      "welcome\n",
      "TO PYTHON\n",
      "3\n",
      "valeur R=  20\n",
      "valeur D=  20\n"
     ]
    }
   ],
   "source": [
    "x=\"welcome\"\n",
    "A,B,E=\"welcome\",\"TO PYTHON\",3\n",
    "\n",
    "R=D=20\n",
    "print(A)\n",
    "print(B)\n",
    "print(E)\n",
    "\n",
    "print(\"valeur R= \",R)\n",
    "print(\"valeur D= \",D)"
   ]
  },
  {
   "cell_type": "code",
   "execution_count": 3,
   "metadata": {},
   "outputs": [
    {
     "name": "stdout",
     "output_type": "stream",
     "text": [
      "<class 'str'>\n",
      "<class 'bool'>\n",
      "<class 'float'>\n"
     ]
    }
   ],
   "source": [
    "\"Type VAR\" \n",
    "\n",
    "K=\"welcome\"\n",
    "\n",
    "L=True\n",
    "print(type(K))\n",
    "print(type(L))\n",
    "\n",
    "P=float(20.5)\n",
    "print(type(P))\n"
   ]
  },
  {
   "cell_type": "code",
   "execution_count": 10,
   "metadata": {},
   "outputs": [
    {
     "name": "stdout",
     "output_type": "stream",
     "text": [
      "<class 'int'>\n",
      "20\n",
      "100.0\n"
     ]
    }
   ],
   "source": [
    "#Casting   : commentaire\n",
    "P=int(20.5)\n",
    "M=float(\"100\")\n",
    "print(type(P))\n",
    "print(P)\n",
    "print(M)"
   ]
  },
  {
   "cell_type": "code",
   "execution_count": 2,
   "metadata": {},
   "outputs": [
    {
     "data": {
      "text/plain": [
       "range(5, 10)"
      ]
     },
     "execution_count": 2,
     "metadata": {},
     "output_type": "execute_result"
    }
   ],
   "source": [
    "# fonction range\n",
    "\n",
    "range (5,10) # c a d 5 6 7 8 9"
   ]
  },
  {
   "cell_type": "code",
   "execution_count": 7,
   "metadata": {},
   "outputs": [
    {
     "data": {
      "text/plain": [
       "5"
      ]
     },
     "execution_count": 7,
     "metadata": {},
     "output_type": "execute_result"
    }
   ],
   "source": [
    "# le module RANDOM\n",
    "\n",
    "import random\n",
    "\n",
    "random.random()  # valeur aleatoire ente 0  1\n",
    "\n",
    "random.randint(1,11)  # entre [a b] 1 11\n",
    "\n",
    "random.randrange(1,11)  # entre [a b[ 1 11\n",
    "\n",
    "random.choice([1,5,8,9])  # entre [a b] 1 11\n"
   ]
  }
 ],
 "metadata": {
  "kernelspec": {
   "display_name": "Python 3",
   "language": "python",
   "name": "python3"
  },
  "language_info": {
   "codemirror_mode": {
    "name": "ipython",
    "version": 3
   },
   "file_extension": ".py",
   "mimetype": "text/x-python",
   "name": "python",
   "nbconvert_exporter": "python",
   "pygments_lexer": "ipython3",
   "version": "3.12.5"
  }
 },
 "nbformat": 4,
 "nbformat_minor": 2
}
