{
 "cells": [
  {
   "cell_type": "code",
   "execution_count": 6,
   "metadata": {},
   "outputs": [
    {
     "name": "stdout",
     "output_type": "stream",
     "text": [
      "welcome\n",
      "TO PYTHON\n",
      "3\n",
      "valeur R=  20\n",
      "valeur D=  20\n"
     ]
    }
   ],
   "source": [
    "x=\"welcome\"\n",
    "A,B,E=\"welcome\",\"TO PYTHON\",3\n",
    "\n",
    "R=D=20\n",
    "print(A)\n",
    "print(B)\n",
    "print(E)\n",
    "\n",
    "print(\"valeur R= \",R)\n",
    "print(\"valeur D= \",D)"
   ]
  },
  {
   "cell_type": "code",
   "execution_count": 9,
   "metadata": {},
   "outputs": [
    {
     "name": "stdout",
     "output_type": "stream",
     "text": [
      "<class 'str'>\n",
      "<class 'bool'>\n",
      "<class 'float'>\n"
     ]
    }
   ],
   "source": [
    "K=\"welcome\"\n",
    "\n",
    "L=True\n",
    "print(type(K))\n",
    "print(type(L))\n",
    "\n",
    "P=float(20.5)\n",
    "print(type(P))\n"
   ]
  }
 ],
 "metadata": {
  "kernelspec": {
   "display_name": "Python 3",
   "language": "python",
   "name": "python3"
  },
  "language_info": {
   "codemirror_mode": {
    "name": "ipython",
    "version": 3
   },
   "file_extension": ".py",
   "mimetype": "text/x-python",
   "name": "python",
   "nbconvert_exporter": "python",
   "pygments_lexer": "ipython3",
   "version": "3.12.5"
  }
 },
 "nbformat": 4,
 "nbformat_minor": 2
}
