{
 "cells": [
  {
   "cell_type": "code",
   "execution_count": null,
   "metadata": {},
   "outputs": [],
   "source": [
    "# set c'est un ensembles : plusieurs variables : valeur , chaine ,tuple \n",
    "#set :n'est pa d'ordre  et n'est pas index"
   ]
  },
  {
   "cell_type": "code",
   "execution_count": 17,
   "metadata": {},
   "outputs": [
    {
     "name": "stdout",
     "output_type": "stream",
     "text": [
      "{1, 5, 78}\n",
      "{1000000, 1, 5, 78}\n",
      "{1000000, 1, 5, 8877, 78, 44665}\n",
      "{1000000, 1, 8877, 78, 44665}\n",
      "{1000000, 1, 78, 44665}\n",
      "set()\n",
      "{'bien', 'bonj'}\n"
     ]
    }
   ],
   "source": [
    "set1={1,5,78}\n",
    "print(set1)\n",
    "#print(set1[1]) n'est pas index\n",
    "\n",
    "set1.add(1000000) #add #n'est pas d'ordre\n",
    "print(set1)\n",
    "\n",
    "set1.update([8877,44665]) #add\n",
    "print(set1)\n",
    "\n",
    "set1.remove(5)  #supp element\n",
    "print(set1)\n",
    "\n",
    "set1.discard(8877)  #supp element\n",
    "print(set1)\n",
    "\n",
    "set1.clear()  #supp set1\n",
    "print(set1)\n",
    "\n",
    "set2={\"bonj\",\"bien\"}\n",
    "print(set2)\n",
    "\n",
    "del set2      #supp\n"
   ]
  },
  {
   "cell_type": "code",
   "execution_count": 25,
   "metadata": {},
   "outputs": [
    {
     "name": "stdout",
     "output_type": "stream",
     "text": [
      "{75, 100, 54, 87}\n",
      "{75, 100}\n",
      "{7777, 666, 75, 100}\n"
     ]
    }
   ],
   "source": [
    "setA={87,54}\n",
    "setB={75,100}\n",
    "setA.update(setB) #add 2 set\n",
    "print(setA)\n",
    "print(setB)\n",
    "\n",
    "setE={666,7777}\n",
    "setC=setE.union(setB)\n",
    "print(setC)"
   ]
  }
 ],
 "metadata": {
  "kernelspec": {
   "display_name": "Python 3",
   "language": "python",
   "name": "python3"
  },
  "language_info": {
   "codemirror_mode": {
    "name": "ipython",
    "version": 3
   },
   "file_extension": ".py",
   "mimetype": "text/x-python",
   "name": "python",
   "nbconvert_exporter": "python",
   "pygments_lexer": "ipython3",
   "version": "3.12.5"
  }
 },
 "nbformat": 4,
 "nbformat_minor": 2
}
