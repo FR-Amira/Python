{
 "cells": [
  {
   "cell_type": "code",
   "execution_count": null,
   "metadata": {},
   "outputs": [],
   "source": [
    "#Tuples c'est une liste qui ne peut modifie"
   ]
  },
  {
   "cell_type": "code",
   "execution_count": 8,
   "metadata": {},
   "outputs": [
    {
     "name": "stdout",
     "output_type": "stream",
     "text": [
      "(5, 7, 3, 9)\n",
      "5\n",
      "(5, 7)\n",
      "4\n"
     ]
    }
   ],
   "source": [
    "tuple1=(5,7,3,9)\n",
    "print(tuple1)\n",
    "\n",
    "print(tuple1[0])\n",
    "print(tuple1[:2]) #stop avant index 2\n",
    "print(len(tuple1)) #longeur\n",
    "\n",
    "del(tuple1) #supp\n"
   ]
  },
  {
   "cell_type": "code",
   "execution_count": 13,
   "metadata": {},
   "outputs": [
    {
     "name": "stdout",
     "output_type": "stream",
     "text": [
      "(5, 8, 4, 6, 7, 22)\n",
      "<class 'tuple'>\n"
     ]
    }
   ],
   "source": [
    "tuple2=(5,8,4)\n",
    "tuple3=(6,7,22)\n",
    "tuple4=tuple2+tuple3\n",
    "print(tuple4)\n",
    "\n",
    "\n",
    "tupleA=(5,) #si ona 1 element dans tuple il faut ajoute , apres element si non type va changer \n",
    "print(type(tupleA))\n",
    "\n"
   ]
  },
  {
   "cell_type": "code",
   "execution_count": 14,
   "metadata": {},
   "outputs": [],
   "source": [
    "#autre methode ajouter tupler\n",
    "\n",
    "tuple2=tuple((25,75))\n",
    "print(tuple2)"
   ]
  }
 ],
 "metadata": {
  "kernelspec": {
   "display_name": "Python 3",
   "language": "python",
   "name": "python3"
  },
  "language_info": {
   "codemirror_mode": {
    "name": "ipython",
    "version": 3
   },
   "file_extension": ".py",
   "mimetype": "text/x-python",
   "name": "python",
   "nbconvert_exporter": "python",
   "pygments_lexer": "ipython3",
   "version": "3.12.5"
  }
 },
 "nbformat": 4,
 "nbformat_minor": 2
}
