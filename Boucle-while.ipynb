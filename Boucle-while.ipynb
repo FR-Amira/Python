{
 "cells": [
  {
   "cell_type": "code",
   "execution_count": 9,
   "metadata": {},
   "outputs": [
    {
     "name": "stdout",
     "output_type": "stream",
     "text": [
      "0\n",
      "1\n",
      "2\n",
      "3\n",
      "4\n",
      "5\n",
      "6\n",
      "7\n",
      "8\n",
      "9\n",
      "programme 2 \n",
      "0\n",
      "1\n",
      "2\n",
      "3\n",
      "4\n",
      "programme 3 \n",
      "1\n",
      "2\n",
      "3\n",
      "4\n",
      "6\n",
      "7\n",
      "8\n",
      "9\n",
      "10\n",
      "termier while loop\n"
     ]
    }
   ],
   "source": [
    "# while : repeter jus'un cond\n",
    "\n",
    "# repeter jus'un i<10\n",
    "i=0\n",
    "while(i<10) :\n",
    "    print(i)\n",
    "    i+=1\n",
    "    \n",
    "\n",
    "print(\"programme 2 \")\n",
    "\n",
    "# si i=5 sorte de boucle\n",
    "i=0\n",
    "while(i<10) :\n",
    "    if i==5 :\n",
    "        break\n",
    "    print(i)\n",
    "    i+=1\n",
    "    \n",
    "\n",
    "print(\"programme 3 \")\n",
    "\n",
    "# si i=5 non affiche 5 puis continue\n",
    "\n",
    "i=0\n",
    "while(i<10) :\n",
    "    i+=1\n",
    "    if i==5 :\n",
    "        continue\n",
    "    print(i)\n",
    "else :\n",
    "    print(\"termier while loop\")    \n",
    "    \n",
    "    "
   ]
  }
 ],
 "metadata": {
  "kernelspec": {
   "display_name": "Python 3",
   "language": "python",
   "name": "python3"
  },
  "language_info": {
   "codemirror_mode": {
    "name": "ipython",
    "version": 3
   },
   "file_extension": ".py",
   "mimetype": "text/x-python",
   "name": "python",
   "nbconvert_exporter": "python",
   "pygments_lexer": "ipython3",
   "version": "3.12.5"
  }
 },
 "nbformat": 4,
 "nbformat_minor": 2
}
