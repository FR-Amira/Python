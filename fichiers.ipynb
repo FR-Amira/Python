{
 "cells": [
  {
   "cell_type": "code",
   "execution_count": 19,
   "metadata": {},
   "outputs": [
    {
     "name": "stdout",
     "output_type": "stream",
     "text": [
      "Hello !   How are you ?\n",
      "\n",
      "Hello !\n",
      "Hello !   How are you ?\n"
     ]
    }
   ],
   "source": [
    "f=open(\"doc1.txt\",\"rt\")  # read\n",
    "\n",
    "print(f.readline())\n",
    "print(f.readline())\n",
    "f.close()\n",
    "\n",
    "\n",
    "\n",
    "K=open(\"doc1.txt\",\"w\") # write\n",
    "K.write(\"Hello !\")\n",
    "\n",
    "K=open(\"doc1.txt\",\"rt\")\n",
    "\n",
    "print(K.readline())\n",
    "K.close()\n",
    "\n",
    " \n",
    "L=open(\"doc1.txt\",\"at\")  # ajout apprend\n",
    "L.write(\"   How are you ?\")\n",
    "\n",
    "L=open(\"doc1.txt\",\"rt\")\n",
    "print(L.readline())\n",
    "\n",
    "L.close()   "
   ]
  },
  {
   "cell_type": "code",
   "execution_count": 24,
   "metadata": {},
   "outputs": [
    {
     "name": "stdout",
     "output_type": "stream",
     "text": [
      "Hello !\n",
      "\n",
      "1\n"
     ]
    }
   ],
   "source": [
    "# cree ficher \n",
    "\n",
    "K=open(\"doc2.txt\",\"w\") # write\n",
    "K.write(\"Hello !\")\n",
    "\n",
    "K=open(\"doc2.txt\",\"rt\")\n",
    "\n",
    "print(K.readline())\n",
    "print(K.readline())\n",
    "\n",
    "K.close()\n"
   ]
  },
  {
   "cell_type": "code",
   "execution_count": 27,
   "metadata": {},
   "outputs": [],
   "source": [
    "# supp fichier\n",
    "\n",
    "import os \n",
    "K=open(\"doc3.txt\",\"w\") # write\n",
    "K.write(\"Hello !\")\n",
    "K.close()\n",
    "\n",
    "os.remove(\"doc3.txt\")"
   ]
  }
 ],
 "metadata": {
  "kernelspec": {
   "display_name": "Python 3",
   "language": "python",
   "name": "python3"
  },
  "language_info": {
   "codemirror_mode": {
    "name": "ipython",
    "version": 3
   },
   "file_extension": ".py",
   "mimetype": "text/x-python",
   "name": "python",
   "nbconvert_exporter": "python",
   "pygments_lexer": "ipython3",
   "version": "3.12.5"
  }
 },
 "nbformat": 4,
 "nbformat_minor": 2
}
