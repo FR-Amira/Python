{
 "cells": [
  {
   "cell_type": "code",
   "execution_count": 12,
   "metadata": {},
   "outputs": [
    {
     "name": "stdout",
     "output_type": "stream",
     "text": [
      "['5', '589', '852']\n",
      "['100', '589', '852']\n",
      "['hello', 'hi', 'how are you', 'I am fine', 'thnx']\n",
      "hello\n",
      "['hi', 'how are you']\n",
      "['hi', 'how are you', 'I am fine', 'thnx']\n",
      "['hello', 'hi', 'how are you']\n",
      "thnx\n",
      "I am fine\n",
      "True\n",
      "True\n",
      "5\n"
     ]
    }
   ],
   "source": [
    "list1=[\"5\",\"589\",\"852\"]\n",
    "print(list1)\n",
    "list1[0]=\"100\"\n",
    "print(list1)\n",
    "\n",
    "list2=['hello','hi','how are you','I am fine','thnx']\n",
    "print(list2)\n",
    "print(list2[0])\n",
    "print(list2[1:3]) #ya9ef e9bl mayosel 3\n",
    "print(list2[1:]) #men 1 ekml lista kol\n",
    "print(list2[:3]) # ya9ef e9bl 3\n",
    "\n",
    "print(list2[-1]) # aff a5er chaine\n",
    "print(list2[-2]) # aff e9bl le5ra chaine\n",
    "\n",
    "print(\"hello\" in list2)  #recherche dans list\n",
    "print(\"HI\" not in list2)\n",
    "\n",
    "print(len(list2))  #nb de element dans list\n",
    "\n"
   ]
  }
 ],
 "metadata": {
  "kernelspec": {
   "display_name": "Python 3",
   "language": "python",
   "name": "python3"
  },
  "language_info": {
   "codemirror_mode": {
    "name": "ipython",
    "version": 3
   },
   "file_extension": ".py",
   "mimetype": "text/x-python",
   "name": "python",
   "nbconvert_exporter": "python",
   "pygments_lexer": "ipython3",
   "version": "3.12.5"
  }
 },
 "nbformat": 4,
 "nbformat_minor": 2
}
