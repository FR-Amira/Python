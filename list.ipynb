{
 "cells": [
  {
   "cell_type": "code",
   "execution_count": 12,
   "metadata": {},
   "outputs": [
    {
     "name": "stdout",
     "output_type": "stream",
     "text": [
      "['5', '589', '852']\n",
      "['100', '589', '852']\n",
      "['hello', 'hi', 'how are you', 'I am fine', 'thnx']\n",
      "hello\n",
      "['hi', 'how are you']\n",
      "['hi', 'how are you', 'I am fine', 'thnx']\n",
      "['hello', 'hi', 'how are you']\n",
      "thnx\n",
      "I am fine\n",
      "True\n",
      "True\n",
      "5\n"
     ]
    }
   ],
   "source": [
    "list1=[\"5\",\"589\",\"852\"]\n",
    "print(list1)\n",
    "list1[0]=\"100\"\n",
    "print(list1)\n",
    "\n",
    "list2=['hello','hi','how are you','I am fine','thnx']\n",
    "print(list2)\n",
    "print(list2[0])\n",
    "print(list2[1:3]) #ya9ef e9bl mayosel 3\n",
    "print(list2[1:]) #men 1 ekml lista kol\n",
    "print(list2[:3]) # ya9ef e9bl 3\n",
    "\n",
    "print(list2[-1]) # aff a5er chaine\n",
    "print(list2[-2]) # aff e9bl le5ra chaine\n",
    "\n",
    "print(\"hello\" in list2)  #recherche dans list\n",
    "print(\"HI\" not in list2)\n",
    "\n",
    "print(len(list2))  #nb de element dans list\n",
    "\n"
   ]
  },
  {
   "cell_type": "code",
   "execution_count": 25,
   "metadata": {},
   "outputs": [
    {
     "name": "stdout",
     "output_type": "stream",
     "text": [
      "la list 3 est :  ['hello', 'hi', 'how are you', 'I am fine', 'thnx']\n",
      "la list 4 est :  ['hello', 'hi', 'how are you', 'I am fine', 'thnx']\n",
      "la list 5 est :  ['hello', 'hi', 'how are you', 'I am fine', 'thnx']\n",
      "['hello', 'hi', 'how are you', 'I am fine', 'thnx', 'BY']\n",
      "['hello', 'hi', 'how are you', 'I am fine', 'by', 'thnx', 'BY']\n",
      "['hello', 'hi', 'I am fine', 'by', 'thnx', 'BY']\n",
      "['hello', 'hi', 'I am fine', 'by', 'thnx']\n",
      "['hi', 'I am fine', 'by', 'thnx']\n",
      "[]\n",
      "['hello', 'hi', 'how are you', 'I am fine', 'thnx']\n",
      "['hello', 'hi', 'how are you', 'I am fine', 'thnx']\n",
      "['hello', 'hi', 'how are you', 'I am fine', 'thnx', 'BY']\n",
      "list 6  ['hello', 'hi', 'how are you', 'I am fine', 'thnx', 'BY', 'hello', 'hi', 'how are you', 'I am fine', 'thnx']\n",
      "list A   None\n"
     ]
    }
   ],
   "source": [
    "#Les methode prefefinies des lists\n",
    "\n",
    "list3=['hello','hi','how are you','I am fine','thnx']\n",
    "print(\"la list 3 est : \",list3)\n",
    "\n",
    "#1 methode\n",
    "list4=list3.copy()\n",
    "print(\"la list 4 est : \",list4)\n",
    "\n",
    "# 2 methode list4=list3() itha kan na3ml copie bi tari9a hathi etwali aye changement fi wahda men 2 list l autre liste va changer aussi en //\n",
    "\n",
    "# 3methode \n",
    "list5=list(list3)\n",
    "print(\"la list 5 est : \",list5)\n",
    "\n",
    "list3.append(\"BY\")  #ajoute fin list\n",
    "print(list3)\n",
    "\n",
    "list3.insert(4,\"by\") #ajoute w index 4\n",
    "print(list3)\n",
    "\n",
    "list3.remove(\"how are you\") # supprime\n",
    "print(list3)\n",
    "\n",
    "list3.pop()  #supprime a5er element\n",
    "print(list3)\n",
    "\n",
    "list3.pop(0)  #supprime awal element\n",
    "print(list3)\n",
    "\n",
    "list3.clear()  #supprime tout la list\n",
    "print(list3)\n",
    "\n",
    "print(list4)  #rest sans changment list 4 w list 5 bi methode 1 w 3\n",
    "print(list5)\n",
    "\n",
    "list4.append(\"BY\")\n",
    "print(list4)\n",
    "\n",
    "list6=list4+list5  # 1 methode de concatination\n",
    "print(\"list 6 \",list6)\n",
    "\n"
   ]
  },
  {
   "cell_type": "code",
   "execution_count": 26,
   "metadata": {},
   "outputs": [
    {
     "name": "stdout",
     "output_type": "stream",
     "text": [
      "list A   None\n"
     ]
    }
   ],
   "source": []
  }
 ],
 "metadata": {
  "kernelspec": {
   "display_name": "Python 3",
   "language": "python",
   "name": "python3"
  },
  "language_info": {
   "codemirror_mode": {
    "name": "ipython",
    "version": 3
   },
   "file_extension": ".py",
   "mimetype": "text/x-python",
   "name": "python",
   "nbconvert_exporter": "python",
   "pygments_lexer": "ipython3",
   "version": "3.12.5"
  }
 },
 "nbformat": 4,
 "nbformat_minor": 2
}
