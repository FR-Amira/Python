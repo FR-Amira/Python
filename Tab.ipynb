{
 "cells": [
  {
   "cell_type": "code",
   "execution_count": 6,
   "metadata": {},
   "outputs": [
    {
     "name": "stdout",
     "output_type": "stream",
     "text": [
      "1\n",
      "8\n",
      "6\n",
      "7\n",
      "6\n",
      "5\n",
      "7\n",
      "0\n",
      "3\n",
      "7\n"
     ]
    }
   ],
   "source": [
    "T=10*[0]  # intiatisation de la liste\n",
    "\n",
    "for i in range (0,10):\n",
    "    T[i]=int(input(\"donne T[%d]:\" %(i)))\n",
    "    \n",
    "    print(T[i])"
   ]
  },
  {
   "cell_type": "code",
   "execution_count": 8,
   "metadata": {},
   "outputs": [
    {
     "name": "stdout",
     "output_type": "stream",
     "text": [
      "0\n",
      "1\n",
      "2\n",
      "3\n",
      "4\n",
      "5\n",
      "6\n",
      "7\n",
      "8\n",
      "9\n"
     ]
    }
   ],
   "source": [
    "T=[]  # list vide\n",
    "\n",
    "for i in range (0,10):\n",
    "    E=int(input(\"donne T[%d]:\" %(i)))\n",
    "    T+=[E] # ou bien    T.append(E)\n",
    " \n",
    "    print(T[i])"
   ]
  },
  {
   "cell_type": "code",
   "execution_count": 5,
   "metadata": {},
   "outputs": [
    {
     "data": {
      "text/plain": [
       "254"
      ]
     },
     "execution_count": 5,
     "metadata": {},
     "output_type": "execute_result"
    }
   ],
   "source": [
    "# fonction max tab\n",
    "\n",
    "T=[1,8,6,7,55,254,7,9]\n",
    "\n",
    "def Maximum(T):\n",
    "    Max=T[0]\n",
    "    for i in range(1,len(T)):\n",
    "        if T[i]>Max:\n",
    "            Max=T[i]\n",
    "    return Max\n",
    "\n",
    "\n",
    "Maximum(T)"
   ]
  },
  {
   "cell_type": "code",
   "execution_count": 8,
   "metadata": {},
   "outputs": [
    {
     "data": {
      "text/plain": [
       "1"
      ]
     },
     "execution_count": 8,
     "metadata": {},
     "output_type": "execute_result"
    }
   ],
   "source": [
    "# fonction min tab\n",
    "\n",
    "T=[8,6,7,55,254,7,9]\n",
    "\n",
    "def Minimum(T):\n",
    "    Min=T[0]\n",
    "    for i in range(1,len(T)):\n",
    "        if T[i]<Min:\n",
    "            Min=T[i]\n",
    "    return Min\n",
    "\n",
    "\n",
    "Minimum(T)"
   ]
  },
  {
   "cell_type": "code",
   "execution_count": 10,
   "metadata": {},
   "outputs": [
    {
     "name": "stdout",
     "output_type": "stream",
     "text": [
      "[[0, 1], [2, 3]]\n"
     ]
    }
   ],
   "source": [
    "# tab par 2 dimention\n",
    "\n",
    "n=int(input('Donner le nb de lignes :'))\n",
    "m=int(input('Donner le nb de colonnes :'))\n",
    "\n",
    "A=[m*[0] for i in range (n)]  #tab\n",
    "\n",
    "for i in range (0,n):\n",
    "    for j in range (0,m):\n",
    "        \n",
    "        A[i][j]=int(input('Element de ligne %d et l element de coloune %d :' %(i,j)))\n",
    "        \n",
    "\n",
    "print(A)"
   ]
  },
  {
   "cell_type": "code",
   "execution_count": 19,
   "metadata": {},
   "outputs": [
    {
     "name": "stdout",
     "output_type": "stream",
     "text": [
      "[6, 7, 7, 8, 9, 55, 254]\n"
     ]
    }
   ],
   "source": [
    "# Tri par selection\n",
    "T=[8,6,7,55,254,7,9]\n",
    "def Tri_Selection(T):\n",
    "    n=len(T)\n",
    "    for i in range (0,n-1):\n",
    "        pmin=i # position de min \n",
    "        for j in range(i+1,n):\n",
    "            if T[j]<T[pmin]:\n",
    "                pmin=j\n",
    "            \n",
    "        T[i],T[pmin]=T[pmin],T[i]  # inverser T[i] et t[pmin]\n",
    "    print(T)       \n",
    "\n",
    "Tri_Selection(T)\n"
   ]
  },
  {
   "cell_type": "code",
   "execution_count": 21,
   "metadata": {},
   "outputs": [
    {
     "name": "stdout",
     "output_type": "stream",
     "text": [
      "[6, 7, 8, 9, 17, 55, 254]\n"
     ]
    }
   ],
   "source": [
    "# tri par bulle\n",
    "\n",
    "def tri_Bulle(T):\n",
    "    n=len(T)\n",
    "    while True:\n",
    "        TestPermut=False\n",
    "        for i in range (0,n-1):\n",
    "            if(T[i]>T[i+1]):\n",
    "                T[i],T[i+1]=T[i+1],T[i]\n",
    "                TestPermut=True\n",
    "        if TestPermut==False:\n",
    "            break\n",
    "    print(T)\n",
    "\n",
    "tri_Bulle(T=[8,6,17,55,254,7,9])"
   ]
  },
  {
   "cell_type": "code",
   "execution_count": 22,
   "metadata": {},
   "outputs": [
    {
     "name": "stdout",
     "output_type": "stream",
     "text": [
      "[6, 7, 8, 9, 17, 55, 254]\n"
     ]
    }
   ],
   "source": [
    "# tri Insertion\n",
    "\n",
    "def Tri_Insertion(T):\n",
    "    n=len(T)\n",
    "    for i in range(1,n):\n",
    "        e=T[i]\n",
    "        j=i\n",
    "        while j>0 and T[j-1]>e:\n",
    "            T[j]=T[j-1]\n",
    "            j-=1\n",
    "        T[j]=e\n",
    "    print(T)\n",
    "\n",
    "Tri_Insertion(T=[8,6,17,55,254,7,9])            \n"
   ]
  },
  {
   "cell_type": "code",
   "execution_count": 34,
   "metadata": {},
   "outputs": [
    {
     "data": {
      "text/plain": [
       "True"
      ]
     },
     "execution_count": 34,
     "metadata": {},
     "output_type": "execute_result"
    }
   ],
   "source": [
    "# Rechercher  un element dans tableau\n",
    "\n",
    "def chercher(x, T):\n",
    "    for e in T :\n",
    "        if x == e:  # x element qui rechercher et e elemenet de tab\n",
    "            return True\n",
    "    return False\n",
    "\n",
    "chercher(6,[8,6,17,55,254,7,9])"
   ]
  },
  {
   "cell_type": "code",
   "execution_count": 40,
   "metadata": {},
   "outputs": [
    {
     "data": {
      "text/plain": [
       "2"
      ]
     },
     "execution_count": 40,
     "metadata": {},
     "output_type": "execute_result"
    }
   ],
   "source": [
    "# recherche  dichotomique \n",
    "# on recherche x de Tab qui suppose t trie si nn none\n",
    "#tableau trie : to9sed tab /2 w etchof x = element tab si nn et3wed /2 hata  x=milieu tab\n",
    "\n",
    "def recherche_dichotimoque(x,T):\n",
    "    binf = 0\n",
    "    bsup=len(T) - 1\n",
    "    while binf <= bsup :\n",
    "        m=(binf+bsup)  // 2 #milieu  \n",
    "        if T[m] == x: return m\n",
    "        if T[m]<x: binf=m+1\n",
    "        else: bsup=m-1\n",
    "    return None\n",
    "\n",
    "recherche_dichotimoque(7,[8,6,7,9,17,55,254])  # resultat index d'element par exp 7 a l'index 2"
   ]
  }
 ],
 "metadata": {
  "kernelspec": {
   "display_name": "Python 3",
   "language": "python",
   "name": "python3"
  },
  "language_info": {
   "codemirror_mode": {
    "name": "ipython",
    "version": 3
   },
   "file_extension": ".py",
   "mimetype": "text/x-python",
   "name": "python",
   "nbconvert_exporter": "python",
   "pygments_lexer": "ipython3",
   "version": "3.12.5"
  }
 },
 "nbformat": 4,
 "nbformat_minor": 2
}
