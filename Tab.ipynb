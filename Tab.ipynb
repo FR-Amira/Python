{
 "cells": [
  {
   "cell_type": "code",
   "execution_count": 6,
   "metadata": {},
   "outputs": [
    {
     "name": "stdout",
     "output_type": "stream",
     "text": [
      "1\n",
      "8\n",
      "6\n",
      "7\n",
      "6\n",
      "5\n",
      "7\n",
      "0\n",
      "3\n",
      "7\n"
     ]
    }
   ],
   "source": [
    "T=10*[0]  # intiatisation de la liste\n",
    "\n",
    "for i in range (0,10):\n",
    "    T[i]=int(input(\"donne T[%d]:\" %(i)))\n",
    "    \n",
    "    print(T[i])"
   ]
  },
  {
   "cell_type": "code",
   "execution_count": 8,
   "metadata": {},
   "outputs": [
    {
     "name": "stdout",
     "output_type": "stream",
     "text": [
      "0\n",
      "1\n",
      "2\n",
      "3\n",
      "4\n",
      "5\n",
      "6\n",
      "7\n",
      "8\n",
      "9\n"
     ]
    }
   ],
   "source": [
    "T=[]  # list vide\n",
    "\n",
    "for i in range (0,10):\n",
    "    E=int(input(\"donne T[%d]:\" %(i)))\n",
    "    T+=[E] # ou bien    T.append(E)\n",
    " \n",
    "    print(T[i])"
   ]
  },
  {
   "cell_type": "code",
   "execution_count": 9,
   "metadata": {},
   "outputs": [],
   "source": [
    "# fonction max tab\n",
    "\n",
    "T=[1,8,6,7,55,254,7,9]\n",
    "\n",
    "def Maximum(T):\n",
    "    Max=T[0]\n",
    "    for i in range(1,len(T)):\n",
    "        if T[i]<Max:\n",
    "            Max=T[i]\n",
    "    return Max\n",
    "\n"
   ]
  }
 ],
 "metadata": {
  "kernelspec": {
   "display_name": "Python 3",
   "language": "python",
   "name": "python3"
  },
  "language_info": {
   "codemirror_mode": {
    "name": "ipython",
    "version": 3
   },
   "file_extension": ".py",
   "mimetype": "text/x-python",
   "name": "python",
   "nbconvert_exporter": "python",
   "pygments_lexer": "ipython3",
   "version": "3.12.5"
  }
 },
 "nbformat": 4,
 "nbformat_minor": 2
}
