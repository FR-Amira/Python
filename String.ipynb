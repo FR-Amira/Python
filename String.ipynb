{
 "cells": [
  {
   "cell_type": "code",
   "execution_count": 10,
   "metadata": {},
   "outputs": [
    {
     "name": "stdout",
     "output_type": "stream",
     "text": [
      "Hello !\n",
      "Hello friends ! \n",
      "Hello friends,\n",
      "        Welcome To Python !\n",
      "Hello friends,\n",
      "       My name Amira Frih\n",
      "Hello friends,\n",
      "How are you ?\n",
      "Hi friends ! ,\tHow are you ?\n",
      "Hello friends,\n",
      "        Welcome To \"Python\" !\n",
      "Hello friends,\n",
      "        Welcome To 'Python' !\n"
     ]
    }
   ],
   "source": [
    "A='Hello !'\n",
    "print(A)\n",
    "\n",
    "B=\"Hello friends ! \"\n",
    "print(B)\n",
    "\n",
    "C=\"\"\"Hello friends,\n",
    "        Welcome To Python !\"\"\"\n",
    "print(C)\n",
    "\n",
    "D='''Hello friends,\n",
    "       My name Amira Frih'''\n",
    "print(D)\n",
    "\n",
    "K=\"Hello friends,\\nHow are you ?\"\n",
    "print(K)\n",
    "\n",
    "M=\"Hi friends ! ,\\tHow are you ?\"\n",
    "print(M)\n",
    "\n",
    "N=\"\"\"Hello friends,\n",
    "        Welcome To \\\"Python\\\" !\"\"\"\n",
    "print(N)\n",
    "\n",
    "T=\"\"\"Hello friends,\n",
    "        Welcome To \\'Python\\' !\"\"\"\n",
    "print(T)"
   ]
  },
  {
   "cell_type": "code",
   "execution_count": 20,
   "metadata": {},
   "outputs": [
    {
     "name": "stdout",
     "output_type": "stream",
     "text": [
      "length de text c =  42\n",
      "hello friends,\n",
      "        welcome to python !\n",
      "HELLO FRIENDS,\n",
      "        WELCOME TO PYTHON !\n",
      "H7llo fri7nds,\n",
      "        W7lcom7 To Python !\n",
      "['Hello', 'friends,', '', 'Welcome', 'To', 'Python', '!']\n",
      "['Hello friends', '  Welcome To Python !']\n"
     ]
    }
   ],
   "source": [
    "#Methode de chaine de caractere 1\n",
    "\"longeur\"\n",
    "C=\"\"\"Hello friends,\n",
    "        Welcome To Python !\"\"\"\n",
    "print(\"length de text c = \",len(C))\n",
    "\n",
    "\"men Maj vers min\"\n",
    "print(C.lower())  \n",
    "\n",
    "\"men min vers Maj\"\n",
    "print(C.upper())\n",
    "\n",
    "\"remplacer caracter 'e' par car '7'\"\n",
    "print(C.replace(\"e\",\"7\"))\n",
    "\n",
    "\"si tu trouve caractre '...' tu va coupe phase\"\n",
    "H=\"\"\"Hello friends,  Welcome To Python !\"\"\"\n",
    "print(H.split(\" \"))\n",
    "print(H.split(','))"
   ]
  },
  {
   "cell_type": "code",
   "execution_count": 31,
   "metadata": {},
   "outputs": [
    {
     "name": "stdout",
     "output_type": "stream",
     "text": [
      "True\n",
      "False\n",
      "Hello friends,Welcome To Python !\n",
      "My age is  28\n",
      "My age is 28 \n",
      "My age is 28 .I was born in day 16 year 1995\n",
      "My age is 28 .I was born in day 16 year 1995\n"
     ]
    }
   ],
   "source": [
    "#Methode de chaine de caractere 2\n",
    "'Test de appartenance'\n",
    "H=\"Hello friends,  Welcome To Python !\"\n",
    "X=\"Python\" in H\n",
    "print(X)\n",
    "\n",
    "L=\"Welcome To Python\" not in H \n",
    "print(L)\n",
    "\n",
    "'Concatenation'\n",
    "I=\"Hello friends,\"\n",
    "O=\"Welcome To Python !\"\n",
    "print(I+O)\n",
    "\n",
    "age=28\n",
    "txt=\"My age is \"\n",
    "print(txt,age)\n",
    "\n",
    "txt2=\"My age is {} \"\n",
    "print(txt2.format(age))\n",
    "\n",
    "txt3=\"My age is {} .I was born in day {} year {}\"\n",
    "Age=28\n",
    "day=16\n",
    "year=1995\n",
    "\n",
    "print(txt3.format(Age,day,year))\n",
    "\n",
    "txt4=\"My age is {1} .I was born in day {0} year {2}\"\n",
    "print(txt4.format(day,Age,year))"
   ]
  },
  {
   "cell_type": "code",
   "execution_count": 1,
   "metadata": {},
   "outputs": [
    {
     "data": {
      "text/plain": [
       "['BONJOUR', 'tout', 'le', 'monde']"
      ]
     },
     "execution_count": 1,
     "metadata": {},
     "output_type": "execute_result"
    }
   ],
   "source": [
    "# transformer un string en liste \n",
    "chaine1=\"BONJOUR:tout:le:monde\"\n",
    "chaine1.split(\":\")"
   ]
  },
  {
   "cell_type": "code",
   "execution_count": 2,
   "metadata": {},
   "outputs": [
    {
     "data": {
      "text/plain": [
       "'BONJOUR;tout;le;monde'"
      ]
     },
     "execution_count": 2,
     "metadata": {},
     "output_type": "execute_result"
    }
   ],
   "source": [
    "# transformer  liste en un string \n",
    "list1=['BONJOUR', 'tout', 'le', 'monde']\n",
    "\";\".join(list1)"
   ]
  }
 ],
 "metadata": {
  "kernelspec": {
   "display_name": "Python 3",
   "language": "python",
   "name": "python3"
  },
  "language_info": {
   "codemirror_mode": {
    "name": "ipython",
    "version": 3
   },
   "file_extension": ".py",
   "mimetype": "text/x-python",
   "name": "python",
   "nbconvert_exporter": "python",
   "pygments_lexer": "ipython3",
   "version": "3.12.5"
  }
 },
 "nbformat": 4,
 "nbformat_minor": 2
}
