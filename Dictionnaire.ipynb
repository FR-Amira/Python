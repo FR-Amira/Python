{
 "cells": [
  {
   "cell_type": "code",
   "execution_count": null,
   "metadata": {},
   "outputs": [],
   "source": [
    "# dictionnaire prend plusieur type de variable on meme temps"
   ]
  },
  {
   "cell_type": "code",
   "execution_count": 17,
   "metadata": {},
   "outputs": [
    {
     "name": "stdout",
     "output_type": "stream",
     "text": [
      "{'Nom': 'FRIH', 'Prenon': 'Amira', 'Age': 28}\n"
     ]
    }
   ],
   "source": [
    "dict1={\n",
    "    \"Nom\":\"FRIH\",\n",
    "    \"Prenon\":\"Amira\",\n",
    "    \"Age\":28\n",
    "}\n",
    "\n",
    "print(dict1)"
   ]
  },
  {
   "cell_type": "code",
   "execution_count": 3,
   "metadata": {},
   "outputs": [
    {
     "name": "stdout",
     "output_type": "stream",
     "text": [
      "FRIH\n",
      "Amira\n"
     ]
    }
   ],
   "source": [
    "#affiche valeur dans dict\n",
    "\n",
    "#1 methode\n",
    "x=dict1[\"Nom\"]\n",
    "print(x)\n",
    "\n",
    "#2meth\n",
    "K=dict1.get(\"Prenon\")\n",
    "print(K)"
   ]
  },
  {
   "cell_type": "code",
   "execution_count": 19,
   "metadata": {},
   "outputs": [
    {
     "name": "stdout",
     "output_type": "stream",
     "text": [
      "{'Age': 29}\n",
      "{'Age': 29, 'Annee': 1995}\n",
      "{'Age': 29}\n",
      "{}\n",
      "{}\n"
     ]
    }
   ],
   "source": [
    "# Modification valeur\n",
    "\n",
    "dict1[\"Age\"]=29\n",
    "print(dict1)\n",
    "\n",
    "\n",
    "# Ajout valeur\n",
    "dict1[\"Annee\"]=1995\n",
    "print(dict1)\n",
    "\n",
    "# supp valeur\n",
    "dict1.pop(\"Annee\")\n",
    "print(dict1)\n",
    "\n",
    "del dict1[\"Age\"]\n",
    "print(dict1)\n",
    " \n",
    " #supp dict\n",
    "#1 methode\n",
    "dict1.clear()\n",
    "print(dict1)\n",
    "\n",
    "#2 methode\n",
    "del dict1\n",
    "\n"
   ]
  },
  {
   "cell_type": "code",
   "execution_count": 22,
   "metadata": {},
   "outputs": [
    {
     "name": "stdout",
     "output_type": "stream",
     "text": [
      "{'Nom': 'FRIH', 'Prenon': 'Amira', 'Age': 28}\n",
      "{'Nom': 'FRIH', 'Prenon': 'Amira', 'Age': 28}\n",
      "{'Nom': 'FRIH', 'Prenon': 'Amira', 'Age': 28, 'Annee': 1995}\n",
      "{'Nom': 'FRIH', 'Prenon': 'Amira', 'Age': 28, 'Annee': 1995}\n",
      "{'Nom': 'FRIH', 'Prenon': 'Amira', 'Age': 28, 'Annee': 1995}\n"
     ]
    }
   ],
   "source": [
    "\n",
    "# cree une copie independante d'un dict\n",
    "dict1={\n",
    "    \"Nom\":\"FRIH\",\n",
    "    \"Prenon\":\"Amira\",\n",
    "    \"Age\":28\n",
    "}\n",
    "\n",
    "print(dict1)\n",
    " \n",
    " #1 meth\n",
    "E=dict1\n",
    "print(E)\n",
    "\n",
    "dict1[\"Annee\"]=1995\n",
    "print(dict1)\n",
    "print(E) # chaque changement de de 1 dict l autre va changer aussi \n",
    "\n",
    "# 2 meth\n",
    "dict2=dict1.copy()\n",
    "print(dict2)\n",
    "\n",
    "#3metho\n",
    "\n",
    "dict3=dict(dict1)\n",
    "print(dict3)"
   ]
  }
 ],
 "metadata": {
  "kernelspec": {
   "display_name": "Python 3",
   "language": "python",
   "name": "python3"
  },
  "language_info": {
   "codemirror_mode": {
    "name": "ipython",
    "version": 3
   },
   "file_extension": ".py",
   "mimetype": "text/x-python",
   "name": "python",
   "nbconvert_exporter": "python",
   "pygments_lexer": "ipython3",
   "version": "3.12.5"
  }
 },
 "nbformat": 4,
 "nbformat_minor": 2
}
