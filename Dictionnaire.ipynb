{
 "cells": [
  {
   "cell_type": "code",
   "execution_count": null,
   "metadata": {},
   "outputs": [],
   "source": [
    "# dictionnaire prend plusieur type de variable on meme temps"
   ]
  },
  {
   "cell_type": "code",
   "execution_count": 14,
   "metadata": {},
   "outputs": [
    {
     "name": "stdout",
     "output_type": "stream",
     "text": [
      "{'Nom': 'FRIH', 'Prenon': 'Amira', 'Age': 28}\n"
     ]
    }
   ],
   "source": [
    "dict1={\n",
    "    \"Nom\":\"FRIH\",\n",
    "    \"Prenon\":\"Amira\",\n",
    "    \"Age\":28\n",
    "}\n",
    "\n",
    "print(dict1)"
   ]
  },
  {
   "cell_type": "code",
   "execution_count": 3,
   "metadata": {},
   "outputs": [
    {
     "name": "stdout",
     "output_type": "stream",
     "text": [
      "FRIH\n",
      "Amira\n"
     ]
    }
   ],
   "source": [
    "#affiche valeur dans dict\n",
    "\n",
    "#1 methode\n",
    "x=dict1[\"Nom\"]\n",
    "print(x)\n",
    "\n",
    "#2meth\n",
    "K=dict1.get(\"Prenon\")\n",
    "print(K)"
   ]
  },
  {
   "cell_type": "code",
   "execution_count": 16,
   "metadata": {},
   "outputs": [
    {
     "name": "stdout",
     "output_type": "stream",
     "text": [
      "{'Nom': 'FRIH', 'Prenon': 'Amira', 'Age': 29}\n",
      "{'Nom': 'FRIH', 'Prenon': 'Amira', 'Age': 29, 'Annee': 1995}\n",
      "{'Nom': 'FRIH', 'Prenon': 'Amira', 'Age': 29}\n",
      "{'Nom': 'FRIH', 'Prenon': 'Amira'}\n"
     ]
    },
    {
     "ename": "NameError",
     "evalue": "name 'dict1' is not defined",
     "output_type": "error",
     "traceback": [
      "\u001b[1;31m---------------------------------------------------------------------------\u001b[0m",
      "\u001b[1;31mNameError\u001b[0m                                 Traceback (most recent call last)",
      "Cell \u001b[1;32mIn[16], line 19\u001b[0m\n\u001b[0;32m     16\u001b[0m \u001b[38;5;28mprint\u001b[39m(dict1)\n\u001b[0;32m     18\u001b[0m \u001b[38;5;28;01mdel\u001b[39;00m dict1\n\u001b[1;32m---> 19\u001b[0m \u001b[38;5;28mprint\u001b[39m(\u001b[43mdict1\u001b[49m)\n",
      "\u001b[1;31mNameError\u001b[0m: name 'dict1' is not defined"
     ]
    }
   ],
   "source": [
    "# Modification valeur\n",
    "\n",
    "dict1[\"Age\"]=29\n",
    "print(dict1)\n",
    "\n",
    "\n",
    "# Ajout valeur\n",
    "dict1[\"Annee\"]=1995\n",
    "print(dict1)\n",
    "\n",
    "# supp valeur\n",
    "dict1.pop(\"Annee\")\n",
    "print(dict1)\n",
    "\n",
    "del dict1[\"Age\"]\n",
    "print(dict1)\n",
    " \n",
    " #supp dict\n",
    "del dict1\n",
    "\n"
   ]
  }
 ],
 "metadata": {
  "kernelspec": {
   "display_name": "Python 3",
   "language": "python",
   "name": "python3"
  },
  "language_info": {
   "codemirror_mode": {
    "name": "ipython",
    "version": 3
   },
   "file_extension": ".py",
   "mimetype": "text/x-python",
   "name": "python",
   "nbconvert_exporter": "python",
   "pygments_lexer": "ipython3",
   "version": "3.12.5"
  }
 },
 "nbformat": 4,
 "nbformat_minor": 2
}
