{
 "cells": [
  {
   "cell_type": "code",
   "execution_count": 3,
   "metadata": {},
   "outputs": [
    {
     "name": "stdout",
     "output_type": "stream",
     "text": [
      "Heloo\n",
      "HI\n",
      "Good job\n",
      "1\n",
      "bonne travail\n",
      "bonjour\n"
     ]
    }
   ],
   "source": [
    "#list \n",
    "list1=[\"Heloo\",\"HI\",\"Good job\"]\n",
    "\n",
    "for element in list1 :\n",
    "    print(element)\n",
    "\n",
    "\n",
    "# set\n",
    "set1={\"bonjour\",\"bonne travail\",1} \n",
    "for element in set1 :\n",
    "    print(element) # changer lordre dans set"
   ]
  },
  {
   "cell_type": "code",
   "execution_count": 3,
   "metadata": {},
   "outputs": [
    {
     "name": "stdout",
     "output_type": "stream",
     "text": [
      "Nom\n",
      "Prenon\n",
      "Age\n",
      "FRIH\n",
      "Amira\n",
      "28\n",
      "FRIH\n",
      "Amira\n",
      "28\n",
      "('Nom', 'FRIH')\n",
      "('Prenon', 'Amira')\n",
      "('Age', 28)\n",
      "Nom\n",
      "Prenon\n"
     ]
    }
   ],
   "source": [
    "#dict\n",
    "dict1={\n",
    "    \"Nom\":\"FRIH\",\n",
    "    \"Prenon\":\"Amira\",\n",
    "    \"Age\":28\n",
    "}\n",
    "#aff cle de dict\n",
    "for element in dict1 :\n",
    "    print(element)\n",
    "\n",
    "#aff mot cle de dict\n",
    "# 1 metho\n",
    "for cle in dict1 :\n",
    "    print(dict1[cle])\n",
    "    \n",
    "# 2 meth\n",
    "for cledic in dict1.values() :\n",
    "    print(cledic)\n",
    "    \n",
    "# aff cle et mot cle\n",
    "for K in dict1.items() :\n",
    "    print(K)\n",
    "\n",
    "\n",
    "for cle in  dict1 :\n",
    "    if cle == \"Age\":\n",
    "        break\n",
    "    print(cle)"
   ]
  },
  {
   "cell_type": "code",
   "execution_count": 13,
   "metadata": {},
   "outputs": [
    {
     "name": "stdout",
     "output_type": "stream",
     "text": [
      "0\n",
      "1\n",
      "2\n",
      "3\n",
      "4\n",
      "Programme 2\n",
      "0\n",
      "1\n",
      "3\n",
      "4\n",
      "5\n",
      "6\n",
      "7\n",
      "8\n",
      "9\n"
     ]
    }
   ],
   "source": [
    "for i in range(10):\n",
    "    if i==5:\n",
    "        break\n",
    "    print(i)\n",
    "    \n",
    "\n",
    "print(\"Programme 2\")\n",
    "\n",
    "for j in range(10):\n",
    "    if j==2:\n",
    "        continue\n",
    "    print(j)\n",
    "    \n"
   ]
  },
  {
   "cell_type": "code",
   "execution_count": 11,
   "metadata": {},
   "outputs": [
    {
     "name": "stdout",
     "output_type": "stream",
     "text": [
      "Programme 3\n",
      "2\n",
      "3\n",
      "4\n",
      "5\n",
      "6\n",
      "7\n",
      "8\n",
      "9\n",
      "10\n",
      "11\n",
      "12\n",
      "13\n",
      "14\n"
     ]
    }
   ],
   "source": [
    "print(\"Programme 3\")  # debut conteur 2 .... 15\n",
    "\n",
    "for K in range(2,15):\n",
    "    print(K)\n",
    "\n",
    "\n"
   ]
  },
  {
   "cell_type": "code",
   "execution_count": 10,
   "metadata": {},
   "outputs": [
    {
     "name": "stdout",
     "output_type": "stream",
     "text": [
      "Programme 4\n",
      "2\n",
      "5\n",
      "8\n",
      "11\n",
      "14\n"
     ]
    }
   ],
   "source": [
    "print(\"Programme 4\")  # debut conteur 2 .... 15 et k+3\n",
    "\n",
    "for P in range(2,15,3):\n",
    "    print(P)"
   ]
  },
  {
   "cell_type": "code",
   "execution_count": 26,
   "metadata": {},
   "outputs": [
    {
     "name": "stdout",
     "output_type": "stream",
     "text": [
      "1 AMIRA\n",
      "2 AMIRA\n",
      "3 AMIRA\n",
      "1 SHAHED\n",
      "2 SHAHED\n",
      "3 SHAHED\n",
      "1 AMAL\n",
      "2 AMAL\n",
      "3 AMAL\n"
     ]
    }
   ],
   "source": [
    "list1=[\"AMIRA\",\"SHAHED\",\"AMAL\"]\n",
    "list2=[1,2,3]\n",
    "\n",
    "for i in list1:\n",
    "    for j in list2:\n",
    "        print(j,i)\n",
    "    \n",
    "    \n",
    "    "
   ]
  },
  {
   "cell_type": "code",
   "execution_count": 27,
   "metadata": {},
   "outputs": [
    {
     "name": "stdout",
     "output_type": "stream",
     "text": [
      "3 AMIRA\n",
      "3 SHAHED\n",
      "3 AMAL\n"
     ]
    }
   ],
   "source": [
    "list1=[\"AMIRA\",\"SHAHED\",\"AMAL\"]\n",
    "list2=[1,2,3]\n",
    "\n",
    "for i in list1:\n",
    "    for j in list2:\n",
    "        pass\n",
    "    print(j,i)\n",
    "    \n",
    "    \n",
    "    "
   ]
  }
 ],
 "metadata": {
  "kernelspec": {
   "display_name": "Python 3",
   "language": "python",
   "name": "python3"
  },
  "language_info": {
   "codemirror_mode": {
    "name": "ipython",
    "version": 3
   },
   "file_extension": ".py",
   "mimetype": "text/x-python",
   "name": "python",
   "nbconvert_exporter": "python",
   "pygments_lexer": "ipython3",
   "version": "3.12.5"
  }
 },
 "nbformat": 4,
 "nbformat_minor": 2
}
