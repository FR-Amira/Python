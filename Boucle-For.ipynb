{
 "cells": [
  {
   "cell_type": "code",
   "execution_count": 3,
   "metadata": {},
   "outputs": [
    {
     "name": "stdout",
     "output_type": "stream",
     "text": [
      "Heloo\n",
      "HI\n",
      "Good job\n",
      "1\n",
      "bonne travail\n",
      "bonjour\n"
     ]
    }
   ],
   "source": [
    "#list \n",
    "list1=[\"Heloo\",\"HI\",\"Good job\"]\n",
    "\n",
    "for element in list1 :\n",
    "    print(element)\n",
    "\n",
    "\n",
    "# set\n",
    "set1={\"bonjour\",\"bonne travail\",1} \n",
    "for element in set1 :\n",
    "    print(element) # changer lordre dans set"
   ]
  },
  {
   "cell_type": "code",
   "execution_count": 8,
   "metadata": {},
   "outputs": [
    {
     "name": "stdout",
     "output_type": "stream",
     "text": [
      "Nom\n",
      "Prenon\n",
      "Age\n",
      "FRIH\n",
      "Amira\n",
      "28\n",
      "FRIH\n",
      "Amira\n",
      "28\n",
      "('Nom', 'FRIH')\n",
      "('Prenon', 'Amira')\n",
      "('Age', 28)\n"
     ]
    }
   ],
   "source": [
    "#dict\n",
    "dict1={\n",
    "    \"Nom\":\"FRIH\",\n",
    "    \"Prenon\":\"Amira\",\n",
    "    \"Age\":28\n",
    "}\n",
    "#aff cle de dict\n",
    "for element in dict1 :\n",
    "    print(element)\n",
    "\n",
    "#aff mot cle de dict\n",
    "# 1 metho\n",
    "for cle in dict1 :\n",
    "    print(dict1[cle])\n",
    "    \n",
    "# 2 meth\n",
    "for cledic in dict1.values() :\n",
    "    print(cledic)\n",
    "    \n",
    "# aff cle et mot cle\n",
    "for K in dict1.items() :\n",
    "    print(K)"
   ]
  },
  {
   "cell_type": "code",
   "execution_count": 9,
   "metadata": {},
   "outputs": [
    {
     "name": "stdout",
     "output_type": "stream",
     "text": [
      "0\n",
      "1\n",
      "2\n",
      "3\n",
      "4\n",
      "5\n",
      "6\n",
      "7\n",
      "8\n",
      "9\n"
     ]
    }
   ],
   "source": [
    "for i in range(10):\n",
    "    print(i)"
   ]
  }
 ],
 "metadata": {
  "kernelspec": {
   "display_name": "Python 3",
   "language": "python",
   "name": "python3"
  },
  "language_info": {
   "codemirror_mode": {
    "name": "ipython",
    "version": 3
   },
   "file_extension": ".py",
   "mimetype": "text/x-python",
   "name": "python",
   "nbconvert_exporter": "python",
   "pygments_lexer": "ipython3",
   "version": "3.12.5"
  }
 },
 "nbformat": 4,
 "nbformat_minor": 2
}
